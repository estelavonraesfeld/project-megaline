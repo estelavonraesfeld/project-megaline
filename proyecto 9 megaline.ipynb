{
 "cells": [
  {
   "cell_type": "markdown",
   "metadata": {},
   "source": [
    "# ¡Feliz Navidad a toda LATAM! 🎄✨\n",
    "\n",
    "Soy **Hesus Garcia** – tu revisor de confianza y ahora también el **Hesus que trae la magia navideña al código** 🎅🦸‍♂️. Sí, soy el único Hesus con H que viene cargado de observaciones, sugerencias y buenos deseos para ayudarte a mejorar tu proyecto en estas fechas tan especiales. 🎁\n",
    "\n",
    "Quiero aprovechar esta oportunidad para desearte a ti y a toda nuestra increíble comunidad de estudiantes en Latinoamérica unas fiestas llenas de alegría, aprendizaje y nuevos logros. 🌟 ¡Que esta Navidad esté llena de código limpio, proyectos exitosos y muchos \"outputs\" perfectos! 🚀\n",
    "\n",
    "Cada vez que encuentre un detalle importante en tu código, te lo señalaré con la intención de que puedas corregirlo y brilles en tu camino profesional. Recuerda que estos comentarios no son más que regalos disfrazados, pensados para ayudarte a crecer y mejorar. 🎁 Si alguna vez te encuentras con un problema que no logras resolver, no te preocupes; estaré aquí para guiarte.\n",
    "\n",
    "Es importante que cuando encuentres un comentario, **no los muevas, no los modifiques, ni los borres**. Estos son como los adornos de un árbol de Navidad 🎄; cada uno está puesto en su lugar por una razón. \n",
    "\n",
    "---\n",
    "\n",
    "### **Formato de Comentarios**\n",
    "\n",
    "Revisaré cuidadosamente cada implementación en tu notebook para asegurar que cumpla con los requisitos y te daré comentarios de acuerdo al siguiente formato:\n",
    "\n",
    "---\n",
    "\n",
    "<div class=\"alert alert-block alert-success\">\n",
    "<b>Comentario del revisor</b> <a class=\"tocSkip\"></a><br>\n",
    "    \n",
    "<b>Éxito</b> - ¡Excelente trabajo! Esta parte está bien implementada y contribuye significativamente al análisis de datos o al proyecto. Continúa aplicando estas buenas prácticas en futuras secciones. 🎉\n",
    "    \n",
    "</div>\n",
    "\n",
    "<div class=\"alert alert-block alert-warning\">\n",
    "<b>Comentario del revisor</b> <a class=\"tocSkip\"></a><br>\n",
    "    \n",
    "<b>Atención</b> ⚠️ - Este código está correcto, pero se puede optimizar. Considera implementar mejoras para que sea más eficiente y fácil de leer. Esto fortalecerá la calidad de tu proyecto. 🔧\n",
    "    \n",
    "</div>\n",
    "\n",
    "<div class=\"alert alert-block alert-danger\">\n",
    "<b>Comentario del revisor</b> <a class=\"tocSkip\"></a><br>\n",
    "    \n",
    "<b>A resolver</b> ❗ - Aquí hay un problema o error en el código que es necesario corregir para aprobar esta sección. Por favor, revisa y corrige este punto, ya que es fundamental para la validez del análisis y la precisión de los resultados. 🚨\n",
    "    \n",
    "</div>\n",
    "\n",
    "---\n",
    "\n",
    "Al final de cada revisión, recibirás un **Comentario General del Revisor**, como un resumen festivo de los aspectos positivos y áreas para mejorar en tu proyecto. Esto incluirá:\n",
    "\n",
    "- **Aspectos positivos:** Un resumen de los puntos fuertes de tu proyecto. 🎯\n",
    "- **Áreas de mejora:** Sugerencias donde puedes mejorar. 🔍\n",
    "- **Temas adicionales para investigar:** Ideas opcionales para expandir tus habilidades. 🌱\n",
    "\n",
    "---\n",
    "\n",
    "Espero que este espíritu navideño te motive a seguir adelante y que este proyecto sea uno de muchos logros en tu camino. ¡Felicidades por tu dedicación y esfuerzo! 💪🎅✨\n",
    "\n",
    "### ¡Empecemos con esta revisión navideña! 🎄🚀"
   ]
  },
  {
   "cell_type": "markdown",
   "metadata": {},
   "source": [
    "# Megaline. Machine Learning"
   ]
  },
  {
   "cell_type": "markdown",
   "metadata": {},
   "source": []
  },
  {
   "cell_type": "markdown",
   "metadata": {},
   "source": [
    "# Descripción del proyecto"
   ]
  },
  {
   "cell_type": "markdown",
   "metadata": {},
   "source": [
    "La compañía móvil Megaline no está satisfecha al ver que muchos de sus clientes\n",
    "utilizan planes heredados. Quieren desarrollar un modelo que pueda analizar el\n",
    "comportamiento de los clientes y recomendar uno de los nuevos planes de Megaline:\n",
    "Smart o Ultra.\n",
    "Para esta tarea de clasificación debes crear un modelo que escoja el plan correcto.\n",
    "Para ayudarte a entrenar tu modelo, utilizarás los datos de comportamiento del usuario\n",
    "del curso sobre Análisis estadísticos de datos. Como ya hiciste el paso de procesar los\n",
    "datos, puedes lanzarte directo a crear el modelo.\n",
    "Desarrolla un modelo con la mayor exactitud posible. En este proyecto, el umbral de\n",
    "exactitud es 0.75. Usa el dataset para comprobar la exactitud."
   ]
  },
  {
   "cell_type": "code",
   "execution_count": 44,
   "metadata": {},
   "outputs": [],
   "source": [
    "#importar librerias\n",
    "\n",
    "import pandas as pd\n",
    "from sklearn.tree import DecisionTreeClassifier\n",
    "from sklearn.metrics import accuracy_score\n",
    "from sklearn.model_selection import train_test_split\n",
    "from sklearn.ensemble import RandomForestClassifier\n",
    "from sklearn.linear_model import LogisticRegression\n",
    "from sklearn.metrics import mean_squared_error \n",
    "from sklearn.ensemble import RandomForestRegressor\n",
    "from sklearn.dummy import DummyClassifier"
   ]
  },
  {
   "cell_type": "code",
   "execution_count": 45,
   "metadata": {},
   "outputs": [
    {
     "name": "stdout",
     "output_type": "stream",
     "text": [
      "(3214, 5)\n"
     ]
    }
   ],
   "source": [
    "#importar librerias \n",
    "df = pd.read_csv('/datasets/users_behavior_upd.csv')\n",
    "\n",
    "print(df.shape)"
   ]
  },
  {
   "cell_type": "code",
   "execution_count": 46,
   "metadata": {},
   "outputs": [
    {
     "data": {
      "text/html": [
       "<div>\n",
       "<style scoped>\n",
       "    .dataframe tbody tr th:only-of-type {\n",
       "        vertical-align: middle;\n",
       "    }\n",
       "\n",
       "    .dataframe tbody tr th {\n",
       "        vertical-align: top;\n",
       "    }\n",
       "\n",
       "    .dataframe thead th {\n",
       "        text-align: right;\n",
       "    }\n",
       "</style>\n",
       "<table border=\"1\" class=\"dataframe\">\n",
       "  <thead>\n",
       "    <tr style=\"text-align: right;\">\n",
       "      <th></th>\n",
       "      <th>calls</th>\n",
       "      <th>minutes</th>\n",
       "      <th>messages</th>\n",
       "      <th>mb_used</th>\n",
       "      <th>is_ultimate</th>\n",
       "    </tr>\n",
       "  </thead>\n",
       "  <tbody>\n",
       "    <tr>\n",
       "      <th>0</th>\n",
       "      <td>40.0</td>\n",
       "      <td>311.90</td>\n",
       "      <td>83.0</td>\n",
       "      <td>19915.42</td>\n",
       "      <td>0</td>\n",
       "    </tr>\n",
       "    <tr>\n",
       "      <th>1</th>\n",
       "      <td>85.0</td>\n",
       "      <td>516.75</td>\n",
       "      <td>56.0</td>\n",
       "      <td>22696.96</td>\n",
       "      <td>0</td>\n",
       "    </tr>\n",
       "    <tr>\n",
       "      <th>2</th>\n",
       "      <td>77.0</td>\n",
       "      <td>467.66</td>\n",
       "      <td>86.0</td>\n",
       "      <td>21060.45</td>\n",
       "      <td>0</td>\n",
       "    </tr>\n",
       "    <tr>\n",
       "      <th>3</th>\n",
       "      <td>106.0</td>\n",
       "      <td>745.53</td>\n",
       "      <td>81.0</td>\n",
       "      <td>8437.39</td>\n",
       "      <td>1</td>\n",
       "    </tr>\n",
       "    <tr>\n",
       "      <th>4</th>\n",
       "      <td>66.0</td>\n",
       "      <td>418.74</td>\n",
       "      <td>1.0</td>\n",
       "      <td>14502.75</td>\n",
       "      <td>0</td>\n",
       "    </tr>\n",
       "    <tr>\n",
       "      <th>...</th>\n",
       "      <td>...</td>\n",
       "      <td>...</td>\n",
       "      <td>...</td>\n",
       "      <td>...</td>\n",
       "      <td>...</td>\n",
       "    </tr>\n",
       "    <tr>\n",
       "      <th>3209</th>\n",
       "      <td>122.0</td>\n",
       "      <td>910.98</td>\n",
       "      <td>20.0</td>\n",
       "      <td>35124.90</td>\n",
       "      <td>1</td>\n",
       "    </tr>\n",
       "    <tr>\n",
       "      <th>3210</th>\n",
       "      <td>25.0</td>\n",
       "      <td>190.36</td>\n",
       "      <td>0.0</td>\n",
       "      <td>3275.61</td>\n",
       "      <td>0</td>\n",
       "    </tr>\n",
       "    <tr>\n",
       "      <th>3211</th>\n",
       "      <td>97.0</td>\n",
       "      <td>634.44</td>\n",
       "      <td>70.0</td>\n",
       "      <td>13974.06</td>\n",
       "      <td>0</td>\n",
       "    </tr>\n",
       "    <tr>\n",
       "      <th>3212</th>\n",
       "      <td>64.0</td>\n",
       "      <td>462.32</td>\n",
       "      <td>90.0</td>\n",
       "      <td>31239.78</td>\n",
       "      <td>0</td>\n",
       "    </tr>\n",
       "    <tr>\n",
       "      <th>3213</th>\n",
       "      <td>80.0</td>\n",
       "      <td>566.09</td>\n",
       "      <td>6.0</td>\n",
       "      <td>29480.52</td>\n",
       "      <td>1</td>\n",
       "    </tr>\n",
       "  </tbody>\n",
       "</table>\n",
       "<p>3214 rows × 5 columns</p>\n",
       "</div>"
      ],
      "text/plain": [
       "      calls  minutes  messages   mb_used  is_ultimate\n",
       "0      40.0   311.90      83.0  19915.42            0\n",
       "1      85.0   516.75      56.0  22696.96            0\n",
       "2      77.0   467.66      86.0  21060.45            0\n",
       "3     106.0   745.53      81.0   8437.39            1\n",
       "4      66.0   418.74       1.0  14502.75            0\n",
       "...     ...      ...       ...       ...          ...\n",
       "3209  122.0   910.98      20.0  35124.90            1\n",
       "3210   25.0   190.36       0.0   3275.61            0\n",
       "3211   97.0   634.44      70.0  13974.06            0\n",
       "3212   64.0   462.32      90.0  31239.78            0\n",
       "3213   80.0   566.09       6.0  29480.52            1\n",
       "\n",
       "[3214 rows x 5 columns]"
      ]
     },
     "execution_count": 46,
     "metadata": {},
     "output_type": "execute_result"
    }
   ],
   "source": [
    "df"
   ]
  },
  {
   "cell_type": "code",
   "execution_count": 47,
   "metadata": {},
   "outputs": [
    {
     "name": "stdout",
     "output_type": "stream",
     "text": [
      "<class 'pandas.core.frame.DataFrame'>\n",
      "RangeIndex: 3214 entries, 0 to 3213\n",
      "Data columns (total 5 columns):\n",
      " #   Column       Non-Null Count  Dtype  \n",
      "---  ------       --------------  -----  \n",
      " 0   calls        3214 non-null   float64\n",
      " 1   minutes      3214 non-null   float64\n",
      " 2   messages     3214 non-null   float64\n",
      " 3   mb_used      3214 non-null   float64\n",
      " 4   is_ultimate  3214 non-null   int64  \n",
      "dtypes: float64(4), int64(1)\n",
      "memory usage: 125.7 KB\n"
     ]
    }
   ],
   "source": [
    "df.info()\n"
   ]
  },
  {
   "cell_type": "code",
   "execution_count": 48,
   "metadata": {},
   "outputs": [
    {
     "data": {
      "text/html": [
       "<div>\n",
       "<style scoped>\n",
       "    .dataframe tbody tr th:only-of-type {\n",
       "        vertical-align: middle;\n",
       "    }\n",
       "\n",
       "    .dataframe tbody tr th {\n",
       "        vertical-align: top;\n",
       "    }\n",
       "\n",
       "    .dataframe thead th {\n",
       "        text-align: right;\n",
       "    }\n",
       "</style>\n",
       "<table border=\"1\" class=\"dataframe\">\n",
       "  <thead>\n",
       "    <tr style=\"text-align: right;\">\n",
       "      <th></th>\n",
       "      <th>calls</th>\n",
       "      <th>minutes</th>\n",
       "      <th>messages</th>\n",
       "      <th>mb_used</th>\n",
       "      <th>is_ultimate</th>\n",
       "    </tr>\n",
       "  </thead>\n",
       "  <tbody>\n",
       "    <tr>\n",
       "      <th>count</th>\n",
       "      <td>3214.000000</td>\n",
       "      <td>3214.000000</td>\n",
       "      <td>3214.000000</td>\n",
       "      <td>3214.000000</td>\n",
       "      <td>3214.000000</td>\n",
       "    </tr>\n",
       "    <tr>\n",
       "      <th>mean</th>\n",
       "      <td>63.038892</td>\n",
       "      <td>438.208787</td>\n",
       "      <td>38.281269</td>\n",
       "      <td>17207.673836</td>\n",
       "      <td>0.306472</td>\n",
       "    </tr>\n",
       "    <tr>\n",
       "      <th>std</th>\n",
       "      <td>33.236368</td>\n",
       "      <td>234.569872</td>\n",
       "      <td>36.148326</td>\n",
       "      <td>7570.968246</td>\n",
       "      <td>0.461100</td>\n",
       "    </tr>\n",
       "    <tr>\n",
       "      <th>min</th>\n",
       "      <td>0.000000</td>\n",
       "      <td>0.000000</td>\n",
       "      <td>0.000000</td>\n",
       "      <td>0.000000</td>\n",
       "      <td>0.000000</td>\n",
       "    </tr>\n",
       "    <tr>\n",
       "      <th>25%</th>\n",
       "      <td>40.000000</td>\n",
       "      <td>274.575000</td>\n",
       "      <td>9.000000</td>\n",
       "      <td>12491.902500</td>\n",
       "      <td>0.000000</td>\n",
       "    </tr>\n",
       "    <tr>\n",
       "      <th>50%</th>\n",
       "      <td>62.000000</td>\n",
       "      <td>430.600000</td>\n",
       "      <td>30.000000</td>\n",
       "      <td>16943.235000</td>\n",
       "      <td>0.000000</td>\n",
       "    </tr>\n",
       "    <tr>\n",
       "      <th>75%</th>\n",
       "      <td>82.000000</td>\n",
       "      <td>571.927500</td>\n",
       "      <td>57.000000</td>\n",
       "      <td>21424.700000</td>\n",
       "      <td>1.000000</td>\n",
       "    </tr>\n",
       "    <tr>\n",
       "      <th>max</th>\n",
       "      <td>244.000000</td>\n",
       "      <td>1632.060000</td>\n",
       "      <td>224.000000</td>\n",
       "      <td>49745.730000</td>\n",
       "      <td>1.000000</td>\n",
       "    </tr>\n",
       "  </tbody>\n",
       "</table>\n",
       "</div>"
      ],
      "text/plain": [
       "             calls      minutes     messages       mb_used  is_ultimate\n",
       "count  3214.000000  3214.000000  3214.000000   3214.000000  3214.000000\n",
       "mean     63.038892   438.208787    38.281269  17207.673836     0.306472\n",
       "std      33.236368   234.569872    36.148326   7570.968246     0.461100\n",
       "min       0.000000     0.000000     0.000000      0.000000     0.000000\n",
       "25%      40.000000   274.575000     9.000000  12491.902500     0.000000\n",
       "50%      62.000000   430.600000    30.000000  16943.235000     0.000000\n",
       "75%      82.000000   571.927500    57.000000  21424.700000     1.000000\n",
       "max     244.000000  1632.060000   224.000000  49745.730000     1.000000"
      ]
     },
     "execution_count": 48,
     "metadata": {},
     "output_type": "execute_result"
    }
   ],
   "source": [
    "df.describe()"
   ]
  },
  {
   "cell_type": "code",
   "execution_count": 49,
   "metadata": {},
   "outputs": [
    {
     "data": {
      "text/plain": [
       "3214"
      ]
     },
     "execution_count": 49,
     "metadata": {},
     "output_type": "execute_result"
    }
   ],
   "source": [
    "df.duplicated().count()"
   ]
  },
  {
   "cell_type": "code",
   "execution_count": 50,
   "metadata": {},
   "outputs": [
    {
     "data": {
      "text/html": [
       "<div>\n",
       "<style scoped>\n",
       "    .dataframe tbody tr th:only-of-type {\n",
       "        vertical-align: middle;\n",
       "    }\n",
       "\n",
       "    .dataframe tbody tr th {\n",
       "        vertical-align: top;\n",
       "    }\n",
       "\n",
       "    .dataframe thead th {\n",
       "        text-align: right;\n",
       "    }\n",
       "</style>\n",
       "<table border=\"1\" class=\"dataframe\">\n",
       "  <thead>\n",
       "    <tr style=\"text-align: right;\">\n",
       "      <th></th>\n",
       "      <th>calls</th>\n",
       "      <th>minutes</th>\n",
       "      <th>messages</th>\n",
       "      <th>mb_used</th>\n",
       "      <th>is_ultimate</th>\n",
       "    </tr>\n",
       "  </thead>\n",
       "  <tbody>\n",
       "    <tr>\n",
       "      <th>0</th>\n",
       "      <td>40.0</td>\n",
       "      <td>311.90</td>\n",
       "      <td>83.0</td>\n",
       "      <td>19915.42</td>\n",
       "      <td>0</td>\n",
       "    </tr>\n",
       "    <tr>\n",
       "      <th>1</th>\n",
       "      <td>85.0</td>\n",
       "      <td>516.75</td>\n",
       "      <td>56.0</td>\n",
       "      <td>22696.96</td>\n",
       "      <td>0</td>\n",
       "    </tr>\n",
       "    <tr>\n",
       "      <th>2</th>\n",
       "      <td>77.0</td>\n",
       "      <td>467.66</td>\n",
       "      <td>86.0</td>\n",
       "      <td>21060.45</td>\n",
       "      <td>0</td>\n",
       "    </tr>\n",
       "    <tr>\n",
       "      <th>3</th>\n",
       "      <td>106.0</td>\n",
       "      <td>745.53</td>\n",
       "      <td>81.0</td>\n",
       "      <td>8437.39</td>\n",
       "      <td>1</td>\n",
       "    </tr>\n",
       "    <tr>\n",
       "      <th>4</th>\n",
       "      <td>66.0</td>\n",
       "      <td>418.74</td>\n",
       "      <td>1.0</td>\n",
       "      <td>14502.75</td>\n",
       "      <td>0</td>\n",
       "    </tr>\n",
       "    <tr>\n",
       "      <th>...</th>\n",
       "      <td>...</td>\n",
       "      <td>...</td>\n",
       "      <td>...</td>\n",
       "      <td>...</td>\n",
       "      <td>...</td>\n",
       "    </tr>\n",
       "    <tr>\n",
       "      <th>3209</th>\n",
       "      <td>122.0</td>\n",
       "      <td>910.98</td>\n",
       "      <td>20.0</td>\n",
       "      <td>35124.90</td>\n",
       "      <td>1</td>\n",
       "    </tr>\n",
       "    <tr>\n",
       "      <th>3210</th>\n",
       "      <td>25.0</td>\n",
       "      <td>190.36</td>\n",
       "      <td>0.0</td>\n",
       "      <td>3275.61</td>\n",
       "      <td>0</td>\n",
       "    </tr>\n",
       "    <tr>\n",
       "      <th>3211</th>\n",
       "      <td>97.0</td>\n",
       "      <td>634.44</td>\n",
       "      <td>70.0</td>\n",
       "      <td>13974.06</td>\n",
       "      <td>0</td>\n",
       "    </tr>\n",
       "    <tr>\n",
       "      <th>3212</th>\n",
       "      <td>64.0</td>\n",
       "      <td>462.32</td>\n",
       "      <td>90.0</td>\n",
       "      <td>31239.78</td>\n",
       "      <td>0</td>\n",
       "    </tr>\n",
       "    <tr>\n",
       "      <th>3213</th>\n",
       "      <td>80.0</td>\n",
       "      <td>566.09</td>\n",
       "      <td>6.0</td>\n",
       "      <td>29480.52</td>\n",
       "      <td>1</td>\n",
       "    </tr>\n",
       "  </tbody>\n",
       "</table>\n",
       "<p>3214 rows × 5 columns</p>\n",
       "</div>"
      ],
      "text/plain": [
       "      calls  minutes  messages   mb_used  is_ultimate\n",
       "0      40.0   311.90      83.0  19915.42            0\n",
       "1      85.0   516.75      56.0  22696.96            0\n",
       "2      77.0   467.66      86.0  21060.45            0\n",
       "3     106.0   745.53      81.0   8437.39            1\n",
       "4      66.0   418.74       1.0  14502.75            0\n",
       "...     ...      ...       ...       ...          ...\n",
       "3209  122.0   910.98      20.0  35124.90            1\n",
       "3210   25.0   190.36       0.0   3275.61            0\n",
       "3211   97.0   634.44      70.0  13974.06            0\n",
       "3212   64.0   462.32      90.0  31239.78            0\n",
       "3213   80.0   566.09       6.0  29480.52            1\n",
       "\n",
       "[3214 rows x 5 columns]"
      ]
     },
     "execution_count": 50,
     "metadata": {},
     "output_type": "execute_result"
    }
   ],
   "source": [
    "df.drop_duplicates()"
   ]
  },
  {
   "cell_type": "markdown",
   "metadata": {},
   "source": [
    "# Conclusiones de los datos "
   ]
  },
  {
   "cell_type": "markdown",
   "metadata": {},
   "source": [
    "EL dataset que estaremos analizando es de una compania de megafonia. No tiene vaklores nulos y algunos de los datos son continuos, como la duración de las llamadas, mensajes, mb utilzados. El unico valor entero que es el plan"
   ]
  },
  {
   "cell_type": "markdown",
   "metadata": {},
   "source": [
    "# Segmentación de datos"
   ]
  },
  {
   "cell_type": "markdown",
   "metadata": {},
   "source": [
    "Segmenta los datos fuente en un conjunto de entrenamiento, uno de validación y\n",
    "uno de prueba."
   ]
  },
  {
   "cell_type": "code",
   "execution_count": 51,
   "metadata": {},
   "outputs": [],
   "source": [
    "df_train, df_valid = train_test_split(df, test_size=0.20, random_state=12345)"
   ]
  },
  {
   "cell_type": "code",
   "execution_count": 52,
   "metadata": {},
   "outputs": [],
   "source": [
    "features_train = df_train.drop(['is_ultimate'], axis=1)\n",
    "target_train = df_train['is_ultimate']\n",
    "features_valid = df_valid.drop(['is_ultimate'], axis=1)\n",
    "target_valid = df_valid['is_ultimate']"
   ]
  },
  {
   "cell_type": "markdown",
   "metadata": {},
   "source": [
    "<div class=\"alert alert-block alert-success\">\n",
    "\n",
    "<b>Comentario del revisor</b> <a class=\"tocSkip\"></a><br>\n",
    "\n",
    "<b>Éxito</b> - La segmentación de datos en conjuntos de entrenamiento y validación se realizó correctamente. Esto garantiza una evaluación confiable del desempeño de los modelos.\n",
    "</div>"
   ]
  },
  {
   "cell_type": "markdown",
   "metadata": {},
   "source": [
    "# Modelos"
   ]
  },
  {
   "cell_type": "markdown",
   "metadata": {},
   "source": [
    "# Árbol de decisiones"
   ]
  },
  {
   "cell_type": "code",
   "execution_count": 53,
   "metadata": {},
   "outputs": [
    {
     "name": "stdout",
     "output_type": "stream",
     "text": [
      "max_depth = 1 : 0.7480559875583204\n",
      "max_depth = 2 : 0.7807153965785381\n",
      "max_depth = 3 : 0.7838258164852255\n",
      "max_depth = 4 : 0.7791601866251944\n",
      "max_depth = 5 : 0.7853810264385692\n",
      "max_depth = 6 : 0.7822706065318819\n",
      "max_depth = 7 : 0.7791601866251944\n",
      "max_depth = 8 : 0.7729393468118196\n"
     ]
    }
   ],
   "source": [
    "for depth in range(1, 9): \n",
    "    model = DecisionTreeClassifier(random_state=12345, max_depth=depth)\n",
    "    model.fit(features_train, target_train)\n",
    "\n",
    "    predictions_valid = model.predict(features_valid)# < crea un bucle para max_depth de 1 a 5 >\n",
    "    print(\"max_depth =\", depth, \": \", end='')\n",
    "    print(accuracy_score(target_valid, predictions_valid))"
   ]
  },
  {
   "cell_type": "markdown",
   "metadata": {},
   "source": [
    "Conclusión.\n",
    "Podemos ver en los resultados que un árbol con uns profundidad de 5 es la mejor para entrenar el  modelo , ya que si son más o menos su efectividad baja ya se por subajuste o sobreajuste del modelo"
   ]
  },
  {
   "cell_type": "markdown",
   "metadata": {},
   "source": [
    "# Bosque Aleatorio"
   ]
  },
  {
   "cell_type": "code",
   "execution_count": 54,
   "metadata": {},
   "outputs": [
    {
     "name": "stdout",
     "output_type": "stream",
     "text": [
      "La exactitud del mejor modelo en el conjunto de validación (n_estimators = 10): 0.7807153965785381\n"
     ]
    }
   ],
   "source": [
    "best_score = 0\n",
    "best_est = 0\n",
    "for est in range(1, 11): # selecciona el rango del hiperparámetro\n",
    "    model = RandomForestClassifier(random_state=54321, n_estimators= est) # configura el número de árboles\n",
    "    model.fit(features_train, target_train) # entrena el modelo en el conjunto de entrenamiento\n",
    "    score = model.score(features_valid, target_valid) # calcula la puntuación de accuracy en el conjunto de validación\n",
    "    if score > best_score:\n",
    "        best_score = score# guarda la mejor puntuación de accuracy en el conjunto de validación\n",
    "        best_est = est# guarda el número de estimadores que corresponden a la mejor puntuación de exactitud\n",
    "\n",
    "print(\"La exactitud del mejor modelo en el conjunto de validación (n_estimators = {}): {}\".format(best_est, best_score))"
   ]
  },
  {
   "cell_type": "markdown",
   "metadata": {},
   "source": [
    "<div class=\"alert alert-block alert-warning\">\n",
    "\n",
    "<b>Comentario del revisor</b> <a class=\"tocSkip\"></a><br>\n",
    "\n",
    "<b>Atención</b> ⚠️ - Gran trabajo optimizando n_estimators. Sin embargo, considera aumentar el rango del hiperparámetro para explorar configuraciones adicionales y mejorar potencialmente el desempeño del modelo.\n",
    "</div>\n",
    "\n"
   ]
  },
  {
   "cell_type": "markdown",
   "metadata": {},
   "source": [
    "# Regresión logística"
   ]
  },
  {
   "cell_type": "code",
   "execution_count": 55,
   "metadata": {},
   "outputs": [
    {
     "name": "stdout",
     "output_type": "stream",
     "text": [
      "Exactitud del modelo de regresión logística en el conjunto de entrenamiento: 0.7016725009723843\n",
      "Exactitud del modelo de regresión logística en el conjunto de validación: 0.702954898911353\n"
     ]
    }
   ],
   "source": [
    "model = LogisticRegression(random_state=54321, solver='liblinear')# inicializa el constructor de regresión logística con los parámetros random_state=54321 y solver='liblinear'\n",
    "model.fit(features_train, target_train) # entrena el modelo en el conjunto de entrenamiento\n",
    "score_train = model.score(features_train, target_train) # calcula la puntuación de accuracy en el conjunto de entrenamiento\n",
    "score_valid = model.score(features_valid, target_valid) # calcula la puntuación de accuracy en el conjunto de validación\n",
    "\n",
    "print(\"Exactitud del modelo de regresión logística en el conjunto de entrenamiento:\", score_train)\n",
    "print(\"Exactitud del modelo de regresión logística en el conjunto de validación:\", score_valid)"
   ]
  },
  {
   "cell_type": "markdown",
   "metadata": {},
   "source": [
    "# Modelo de cordura"
   ]
  },
  {
   "cell_type": "code",
   "execution_count": 56,
   "metadata": {},
   "outputs": [
    {
     "name": "stdout",
     "output_type": "stream",
     "text": [
      "Exactitud del modelo en el conjunto de prueba: 0.69312\n"
     ]
    }
   ],
   "source": [
    "model = DummyClassifier(random_state = 42)\n",
    "model.fit(features_train, target_train)\n",
    "predictions = model.predict(features_train)\n",
    "score_test = model.score(features_train, target_train)\n",
    "\n",
    "print(\"Exactitud del modelo en el conjunto de prueba:\", round(score_test, 5))"
   ]
  },
  {
   "cell_type": "markdown",
   "metadata": {},
   "source": [
    "<div class=\"alert alert-block alert-success\">\n",
    "\n",
    "<b>Comentario del revisor</b> <a class=\"tocSkip\"></a><br>\n",
    "\n",
    "<b>Éxito</b> - El uso del DummyClassifier como punto de referencia es una buena práctica que demuestra profesionalismo en la evaluación de modelos.\n",
    "</div>"
   ]
  },
  {
   "cell_type": "markdown",
   "metadata": {},
   "source": [
    "# Conclusión de modelos de hiperparámetros"
   ]
  },
  {
   "cell_type": "markdown",
   "metadata": {},
   "source": [
    "Árbol de decisiones = 0.7853810264385692\n",
    "Bosque Aleatorio = 0.7807153965785381\n",
    "Regresión logística = 0.7016725009723843\n",
    "Modelo de cordura = 0.69312\n",
    "\n",
    "con base en estos resultados, se hará la prueba de validación con el árbol de decisiones y bosque aleatorio ya que tuvieron los mejores valores de exactitud"
   ]
  },
  {
   "cell_type": "code",
   "execution_count": 59,
   "metadata": {},
   "outputs": [
    {
     "name": "stdout",
     "output_type": "stream",
     "text": [
      "0.41012766854981736\n"
     ]
    }
   ],
   "source": [
    "#prueba de exactitud con bosque aleatorio \n",
    "\n",
    "final_model = RandomForestRegressor(random_state=54321, n_estimators=40)# inicializa el constructor para el modelo que tenía el mejor valor de RECM\n",
    "final_model.fit(features_train, target_train) # entrena el modelo en el conjunto de entrenamiento\n",
    "predictions = final_model.predict(features_valid)\n",
    "result = mean_squared_error(target_valid, predictions)**0.5\n",
    "print(result)"
   ]
  },
  {
   "cell_type": "markdown",
   "metadata": {},
   "source": [
    "<div class=\"alert alert-block alert-danger\">\n",
    "\n",
    "<b>Comentario del revisor</b> <a class=\"tocSkip\"></a><br>\n",
    "\n",
    "<b>A resolver</b> ❗ - En las pruebas finales, se utilizó RandomForestRegressor en lugar de RandomForestClassifier. Dado que el problema es de clasificación, esto podría haber afectado la evaluación. Reemplazarlo por RandomForestClassifier asegurará resultados más consistentes.\n",
    "</div>"
   ]
  },
  {
   "cell_type": "code",
   "execution_count": 66,
   "metadata": {},
   "outputs": [
    {
     "name": "stdout",
     "output_type": "stream",
     "text": [
      "Exactitud del mejor modelo en el conjunto de validación: 0.5019402478798444\n"
     ]
    }
   ],
   "source": [
    "#prueba de exactitud con árbol de decisiones\n",
    "\n",
    "final_model = None\n",
    "final_model = 0\n",
    "\n",
    "for depth in range(1, 6):\n",
    "    model = DecisionTreeClassifier(random_state = 12345, max_depth = depth)\n",
    "    model.fit(features_train, target_train)\n",
    "    predictions = model.predict(features_valid)\n",
    "    result = mean_squared_error(target_valid, predictions)**0.5\n",
    "    \n",
    "    if result > final_model:\n",
    "        best_model = model\n",
    "        final_model = result\n",
    "\n",
    "print(\"Exactitud del mejor modelo en el conjunto de validación:\", final_model )"
   ]
  },
  {
   "cell_type": "markdown",
   "metadata": {},
   "source": [
    "# conclusión"
   ]
  },
  {
   "cell_type": "markdown",
   "metadata": {},
   "source": [
    "se hizo la prueba de validación con el modelo de árbol de decisiones y con bosque aleatorio. Sin embargo el resultado de bosque aleatorio fue más bajo (0.41) por lo tanto es el modelo con el que nos quedaremos para validar el modelo. "
   ]
  },
  {
   "cell_type": "markdown",
   "metadata": {},
   "source": [
    "<div class=\"alert alert-block alert-warning\">\n",
    "<b>Comentario del revisor</b> <a class=\"tocSkip\"></a>\n",
    "\n",
    "<b>Atención</b> ⚠️ - Para mejorar la claridad y profundidad de tus conclusiones finales, considera las siguientes pautas:\n",
    "\n",
    "<ul>\n",
    "    <li><b>Resumen de los Hallazgos Clave:</b> Incluye brevemente tus descubrimientos más importantes.</li>\n",
    "    <li><b>Impacto de tus Elecciones de Procesamiento de Datos:</b> Reflexiona sobre cómo tus decisiones influyeron en los resultados.</li>\n",
    "    <li><b>Relación con los Objetivos Iniciales:</b> Vincula tus hallazgos con los objetivos del proyecto.</li>\n",
    "    <li><b>Relevancia de los Hallazgos:</b> Discute la importancia de tus resultados para la empresa o usuarios.</li>\n",
    "    <li><b>Sugerencias y Recomendaciones:</b> Ofrece cualquier consejo basado en tus análisis.</li>\n",
    "    <li><b>Reflexiones Finales:</b> Concluye con tus pensamientos finales y aprendizajes del proyecto.</li>\n",
    "</ul>\n",
    "\n",
    "Recuerda que una conclusión efectiva resume tus hallazgos y proporciona insights y reflexiones sobre su impacto y relevancia. ¡Sigue así y éxito en la etapa final!\n",
    "</div>"
   ]
  },
  {
   "cell_type": "markdown",
   "metadata": {},
   "source": [
    "# Comentario General del Revisor"
   ]
  },
  {
   "cell_type": "markdown",
   "metadata": {},
   "source": [
    "\n",
    "<div class=\"alert alert-block alert-success\">\n",
    "\n",
    "<b>Comentario del revisor</b> <a class=\"tocSkip\"></a>\n",
    "\n",
    "¡Felicidades, Estela! Has completado con éxito el proyecto, mostrando un buen manejo de las herramientas necesarias para abordar un problema de clasificación. Tu enfoque, especialmente al explorar diferentes modelos, demuestra una sólida comprensión de los conceptos fundamentales. \n",
    "\n",
    "### Aspectos Positivos:\n",
    "\n",
    "- Probaste múltiples modelos y ajustaste hiperparámetros de forma sistemática, lo cual es un buen paso para encontrar la mejor solución.\n",
    "- Incorporaste un modelo de cordura, mostrando un enfoque riguroso para evaluar tus resultados.\n",
    "- Segmentaste adecuadamente los datos en conjuntos de entrenamiento y validación, lo que asegura una evaluación justa del desempeño de los modelos.\n",
    "\n",
    "### Recomendación para Seguir Aprendiendo:\n",
    "\n",
    "Sería muy útil que investigues y te asegures de entender completamente la **diferencia entre clasificación y regresión**. Esto es fundamental para elegir las herramientas y métricas adecuadas en futuros proyectos. Por ejemplo, en este caso, el uso de `RandomForestRegressor` no es correcto, ya que el problema es de clasificación (predecir categorías: Smart o Ultra). Puedes explorar recursos como:\n",
    "\n",
    "- Documentación oficial de scikit-learn: [Tipos de problemas](https://scikit-learn.org/stable/tutorial/machine_learning_map/index.html).\n",
    "- Tutoriales de regresión y clasificación en plataformas como Kaggle o Coursera.\n",
    "\n",
    "### Motivación Final:\n",
    "\n",
    "¡Estás haciendo un excelente trabajo! Seguir afinando estos conceptos básicos te permitirá abordar problemas más complejos con confianza. Sigue así, y no dudes en pedir ayuda si te surgen dudas. 💪🚀😊\n",
    "\n",
    "</div>"
   ]
  }
 ],
 "metadata": {
  "ExecuteTimeLog": [
   {
    "duration": 295,
    "start_time": "2024-12-18T19:03:43.761Z"
   },
   {
    "duration": 188,
    "start_time": "2024-12-18T19:23:41.718Z"
   },
   {
    "duration": 2,
    "start_time": "2024-12-18T19:23:45.283Z"
   },
   {
    "duration": 17,
    "start_time": "2024-12-18T19:23:46.297Z"
   },
   {
    "duration": 370,
    "start_time": "2024-12-18T19:23:58.586Z"
   },
   {
    "duration": 17,
    "start_time": "2024-12-18T19:24:13.404Z"
   },
   {
    "duration": 14,
    "start_time": "2024-12-18T19:24:19.557Z"
   },
   {
    "duration": 8,
    "start_time": "2024-12-18T19:26:18.340Z"
   },
   {
    "duration": 18,
    "start_time": "2024-12-18T19:26:26.344Z"
   },
   {
    "duration": 8,
    "start_time": "2024-12-18T19:26:42.358Z"
   },
   {
    "duration": 14,
    "start_time": "2024-12-18T19:27:21.767Z"
   },
   {
    "duration": 12,
    "start_time": "2024-12-18T19:27:28.007Z"
   },
   {
    "duration": 11,
    "start_time": "2024-12-18T19:27:39.941Z"
   },
   {
    "duration": 6,
    "start_time": "2024-12-18T19:27:44.470Z"
   },
   {
    "duration": 6,
    "start_time": "2024-12-18T19:27:51.218Z"
   },
   {
    "duration": 13,
    "start_time": "2024-12-18T19:34:23.504Z"
   },
   {
    "duration": 4,
    "start_time": "2024-12-18T19:34:27.728Z"
   },
   {
    "duration": 5,
    "start_time": "2024-12-18T19:34:38.805Z"
   },
   {
    "duration": 5,
    "start_time": "2024-12-18T19:34:41.948Z"
   },
   {
    "duration": 336,
    "start_time": "2024-12-20T23:07:02.706Z"
   },
   {
    "duration": 16,
    "start_time": "2024-12-20T23:07:03.044Z"
   },
   {
    "duration": 14,
    "start_time": "2024-12-20T23:07:03.062Z"
   },
   {
    "duration": 15,
    "start_time": "2024-12-20T23:07:03.078Z"
   },
   {
    "duration": 18,
    "start_time": "2024-12-20T23:07:03.096Z"
   },
   {
    "duration": 5,
    "start_time": "2024-12-20T23:07:03.116Z"
   },
   {
    "duration": 11,
    "start_time": "2024-12-20T23:07:03.122Z"
   },
   {
    "duration": 215,
    "start_time": "2024-12-20T23:07:03.134Z"
   },
   {
    "duration": 509,
    "start_time": "2024-12-20T23:07:36.291Z"
   },
   {
    "duration": 10,
    "start_time": "2024-12-20T23:07:36.802Z"
   },
   {
    "duration": 10,
    "start_time": "2024-12-20T23:07:36.813Z"
   },
   {
    "duration": 8,
    "start_time": "2024-12-20T23:07:36.824Z"
   },
   {
    "duration": 16,
    "start_time": "2024-12-20T23:07:36.834Z"
   },
   {
    "duration": 6,
    "start_time": "2024-12-20T23:07:36.852Z"
   },
   {
    "duration": 37,
    "start_time": "2024-12-20T23:07:36.859Z"
   },
   {
    "duration": 4,
    "start_time": "2024-12-20T23:07:36.897Z"
   },
   {
    "duration": 4,
    "start_time": "2024-12-20T23:07:40.062Z"
   },
   {
    "duration": 4,
    "start_time": "2024-12-20T23:10:32.853Z"
   },
   {
    "duration": 28,
    "start_time": "2024-12-20T23:11:05.314Z"
   },
   {
    "duration": 56,
    "start_time": "2024-12-20T23:12:09.159Z"
   },
   {
    "duration": 3,
    "start_time": "2024-12-20T23:13:11.302Z"
   },
   {
    "duration": 253,
    "start_time": "2024-12-20T23:13:17.181Z"
   },
   {
    "duration": 2,
    "start_time": "2024-12-20T23:13:46.978Z"
   },
   {
    "duration": 10,
    "start_time": "2024-12-20T23:14:09.255Z"
   },
   {
    "duration": 16,
    "start_time": "2024-12-20T23:18:51.023Z"
   },
   {
    "duration": 15,
    "start_time": "2024-12-20T23:20:05.004Z"
   },
   {
    "duration": 2,
    "start_time": "2024-12-20T23:20:27.547Z"
   },
   {
    "duration": 20,
    "start_time": "2024-12-20T23:20:33.181Z"
   },
   {
    "duration": 231,
    "start_time": "2024-12-20T23:21:11.001Z"
   },
   {
    "duration": 234,
    "start_time": "2024-12-20T23:21:30.400Z"
   },
   {
    "duration": 27,
    "start_time": "2024-12-20T23:44:30.892Z"
   },
   {
    "duration": 35,
    "start_time": "2024-12-20T23:44:56.560Z"
   },
   {
    "duration": 27,
    "start_time": "2024-12-20T23:45:09.971Z"
   },
   {
    "duration": 48,
    "start_time": "2024-12-20T23:45:58.340Z"
   },
   {
    "duration": 11,
    "start_time": "2024-12-20T23:53:50.392Z"
   },
   {
    "duration": 3,
    "start_time": "2024-12-21T00:10:19.196Z"
   },
   {
    "duration": 15,
    "start_time": "2024-12-21T00:10:23.858Z"
   },
   {
    "duration": 6,
    "start_time": "2024-12-21T00:11:06.114Z"
   },
   {
    "duration": 5,
    "start_time": "2024-12-21T00:15:07.465Z"
   },
   {
    "duration": 53,
    "start_time": "2024-12-21T00:19:57.332Z"
   },
   {
    "duration": 3,
    "start_time": "2024-12-21T00:20:04.533Z"
   },
   {
    "duration": 9,
    "start_time": "2024-12-21T00:20:04.538Z"
   },
   {
    "duration": 10,
    "start_time": "2024-12-21T00:20:04.549Z"
   },
   {
    "duration": 8,
    "start_time": "2024-12-21T00:20:04.560Z"
   },
   {
    "duration": 15,
    "start_time": "2024-12-21T00:20:04.571Z"
   },
   {
    "duration": 6,
    "start_time": "2024-12-21T00:20:04.587Z"
   },
   {
    "duration": 10,
    "start_time": "2024-12-21T00:20:04.594Z"
   },
   {
    "duration": 4,
    "start_time": "2024-12-21T00:20:04.605Z"
   },
   {
    "duration": 4,
    "start_time": "2024-12-21T00:20:04.610Z"
   },
   {
    "duration": 71,
    "start_time": "2024-12-21T00:20:04.616Z"
   },
   {
    "duration": 258,
    "start_time": "2024-12-21T00:20:04.690Z"
   },
   {
    "duration": 37,
    "start_time": "2024-12-21T00:20:04.950Z"
   },
   {
    "duration": 5,
    "start_time": "2024-12-21T00:20:04.989Z"
   },
   {
    "duration": 308,
    "start_time": "2024-12-21T00:20:04.995Z"
   },
   {
    "duration": 19,
    "start_time": "2024-12-21T00:20:05.305Z"
   },
   {
    "duration": 226,
    "start_time": "2024-12-21T00:21:17.812Z"
   },
   {
    "duration": 21,
    "start_time": "2024-12-21T00:21:23.175Z"
   },
   {
    "duration": 62,
    "start_time": "2024-12-21T00:22:00.751Z"
   },
   {
    "duration": 143,
    "start_time": "2024-12-21T00:22:25.284Z"
   },
   {
    "duration": 39,
    "start_time": "2024-12-21T00:25:24.107Z"
   },
   {
    "duration": 27,
    "start_time": "2024-12-21T00:25:51.569Z"
   },
   {
    "duration": 28,
    "start_time": "2024-12-21T00:26:06.216Z"
   },
   {
    "duration": 28,
    "start_time": "2024-12-21T00:26:46.323Z"
   }
  ],
  "kernelspec": {
   "display_name": "Python 3 (ipykernel)",
   "language": "python",
   "name": "python3"
  },
  "language_info": {
   "codemirror_mode": {
    "name": "ipython",
    "version": 3
   },
   "file_extension": ".py",
   "mimetype": "text/x-python",
   "name": "python",
   "nbconvert_exporter": "python",
   "pygments_lexer": "ipython3",
   "version": "3.9.19"
  },
  "toc": {
   "base_numbering": 1,
   "nav_menu": {},
   "number_sections": true,
   "sideBar": true,
   "skip_h1_title": true,
   "title_cell": "Table of Contents",
   "title_sidebar": "Contents",
   "toc_cell": false,
   "toc_position": {},
   "toc_section_display": true,
   "toc_window_display": true
  }
 },
 "nbformat": 4,
 "nbformat_minor": 2
}
